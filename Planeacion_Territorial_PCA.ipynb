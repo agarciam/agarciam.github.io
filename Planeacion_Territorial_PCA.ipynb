{
 "cells": [
  {
   "cell_type": "markdown",
   "metadata": {
    "id": "ab04OfokL1k6",
    "slideshow": {
     "slide_type": "slide"
    },
    "tags": []
   },
   "source": [
    "# **Taller: Construcción de índices estadísticos mediante Análisis de Componentes Principales (PCA).**\n",
    "\n",
    "Facultad de Ciencias Marinas, Universidad Autónoma de Baja California,  9 de abril, 2025\n",
    "\n",
    "  ## **Actividad: Análisis de Planeación Territorial con PCA**\n",
    "\n",
    "  **Instructor: Dr. Andrés García Medina**\n",
    "\n",
    "  **email: andgarm.n@gmail.com**\n",
    "\n",
    "  **sitio: https://sites.google.com/view/andresgm/home**"
   ]
  },
  {
   "cell_type": "markdown",
   "metadata": {
    "id": "FO0uCITyO0JF",
    "slideshow": {
     "slide_type": "slide"
    },
    "tags": []
   },
   "source": [
    "#### Importamos librerias"
   ]
  },
  {
   "cell_type": "code",
   "execution_count": 6,
   "metadata": {
    "executionInfo": {
     "elapsed": 3,
     "status": "ok",
     "timestamp": 1744156702218,
     "user": {
      "displayName": "Andrés",
      "userId": "08973124357776947394"
     },
     "user_tz": 420
    },
    "id": "DrlRFYqYEBJ_",
    "slideshow": {
     "slide_type": "slide"
    },
    "tags": []
   },
   "outputs": [],
   "source": [
    "import pandas as pd\n",
    "import numpy as np\n",
    "import matplotlib.pyplot as plt\n",
    "from sklearn.preprocessing import StandardScaler\n",
    "from sklearn.decomposition import PCA"
   ]
  },
  {
   "cell_type": "markdown",
   "metadata": {
    "id": "0sCabLVDO8W3",
    "slideshow": {
     "slide_type": "slide"
    },
    "tags": []
   },
   "source": [
    "#### Suponiendo que los datos estan en un csv"
   ]
  },
  {
   "cell_type": "code",
   "execution_count": 9,
   "metadata": {
    "colab": {
     "base_uri": "https://localhost:8080/",
     "height": 206
    },
    "executionInfo": {
     "elapsed": 52,
     "status": "ok",
     "timestamp": 1744156703104,
     "user": {
      "displayName": "Andrés",
      "userId": "08973124357776947394"
     },
     "user_tz": 420
    },
    "id": "dkEZ-25fPcpS",
    "outputId": "cb9cd966-bfe3-4bec-a53f-f0ede84a09fc",
    "slideshow": {
     "slide_type": "slide"
    },
    "tags": []
   },
   "outputs": [
    {
     "data": {
      "text/html": [
       "<div>\n",
       "<style scoped>\n",
       "    .dataframe tbody tr th:only-of-type {\n",
       "        vertical-align: middle;\n",
       "    }\n",
       "\n",
       "    .dataframe tbody tr th {\n",
       "        vertical-align: top;\n",
       "    }\n",
       "\n",
       "    .dataframe thead th {\n",
       "        text-align: right;\n",
       "    }\n",
       "</style>\n",
       "<table border=\"1\" class=\"dataframe\">\n",
       "  <thead>\n",
       "    <tr style=\"text-align: right;\">\n",
       "      <th></th>\n",
       "      <th>id</th>\n",
       "      <th>latitud</th>\n",
       "      <th>longitud</th>\n",
       "      <th>accesibilidad</th>\n",
       "      <th>distancia_a_area_residencial</th>\n",
       "      <th>distancia_a_servicios</th>\n",
       "      <th>distancia_a_area_ambiental</th>\n",
       "    </tr>\n",
       "  </thead>\n",
       "  <tbody>\n",
       "    <tr>\n",
       "      <th>0</th>\n",
       "      <td>1</td>\n",
       "      <td>19.427491</td>\n",
       "      <td>-99.133881</td>\n",
       "      <td>7</td>\n",
       "      <td>4.222669</td>\n",
       "      <td>1.829919</td>\n",
       "      <td>2.017192</td>\n",
       "    </tr>\n",
       "    <tr>\n",
       "      <th>1</th>\n",
       "      <td>2</td>\n",
       "      <td>19.439014</td>\n",
       "      <td>-99.138605</td>\n",
       "      <td>8</td>\n",
       "      <td>3.736601</td>\n",
       "      <td>1.700077</td>\n",
       "      <td>8.957636</td>\n",
       "    </tr>\n",
       "    <tr>\n",
       "      <th>2</th>\n",
       "      <td>3</td>\n",
       "      <td>19.434640</td>\n",
       "      <td>-99.137079</td>\n",
       "      <td>3</td>\n",
       "      <td>2.698461</td>\n",
       "      <td>0.898901</td>\n",
       "      <td>4.753702</td>\n",
       "    </tr>\n",
       "    <tr>\n",
       "      <th>3</th>\n",
       "      <td>4</td>\n",
       "      <td>19.431973</td>\n",
       "      <td>-99.136336</td>\n",
       "      <td>1</td>\n",
       "      <td>2.933756</td>\n",
       "      <td>0.190820</td>\n",
       "      <td>5.632756</td>\n",
       "    </tr>\n",
       "    <tr>\n",
       "      <th>4</th>\n",
       "      <td>5</td>\n",
       "      <td>19.423120</td>\n",
       "      <td>-99.135439</td>\n",
       "      <td>4</td>\n",
       "      <td>4.826277</td>\n",
       "      <td>0.741637</td>\n",
       "      <td>6.955161</td>\n",
       "    </tr>\n",
       "  </tbody>\n",
       "</table>\n",
       "</div>"
      ],
      "text/plain": [
       "   id    latitud   longitud  accesibilidad  distancia_a_area_residencial  \\\n",
       "0   1  19.427491 -99.133881              7                      4.222669   \n",
       "1   2  19.439014 -99.138605              8                      3.736601   \n",
       "2   3  19.434640 -99.137079              3                      2.698461   \n",
       "3   4  19.431973 -99.136336              1                      2.933756   \n",
       "4   5  19.423120 -99.135439              4                      4.826277   \n",
       "\n",
       "   distancia_a_servicios  distancia_a_area_ambiental  \n",
       "0               1.829919                    2.017192  \n",
       "1               1.700077                    8.957636  \n",
       "2               0.898901                    4.753702  \n",
       "3               0.190820                    5.632756  \n",
       "4               0.741637                    6.955161  "
      ]
     },
     "execution_count": 9,
     "metadata": {},
     "output_type": "execute_result"
    }
   ],
   "source": [
    "datos_ordenamiento = pd.read_csv('datos_ejemplo.csv')\n",
    "datos_ordenamiento.head()"
   ]
  },
  {
   "cell_type": "markdown",
   "metadata": {
    "id": "IBEuFDpp21dw",
    "slideshow": {
     "slide_type": "slide"
    },
    "tags": []
   },
   "source": [
    "#### Vamos a invertir la distancia para interpretabilidad del índice (no es parte de PCA)"
   ]
  },
  {
   "cell_type": "code",
   "execution_count": 12,
   "metadata": {
    "executionInfo": {
     "elapsed": 8,
     "status": "ok",
     "timestamp": 1744156704158,
     "user": {
      "displayName": "Andrés",
      "userId": "08973124357776947394"
     },
     "user_tz": 420
    },
    "id": "kNUYHilM26_o",
    "slideshow": {
     "slide_type": "slide"
    },
    "tags": []
   },
   "outputs": [],
   "source": [
    "datos_ordenamiento['score_a_area_residencial'] =  \\\n",
    "1 / datos_ordenamiento['distancia_a_area_residencial']\n",
    "\n",
    "datos_ordenamiento['score_a_servicios'] = \\\n",
    "1 / datos_ordenamiento['distancia_a_servicios']\n",
    "\n",
    "datos_ordenamiento['score_a_area_ambiental'] = \\\n",
    "1 / datos_ordenamiento['distancia_a_area_ambiental']"
   ]
  },
  {
   "cell_type": "markdown",
   "metadata": {
    "id": "K6cUqwXhXmkU",
    "slideshow": {
     "slide_type": "slide"
    },
    "tags": []
   },
   "source": [
    "#### Normalizamos los datos (centrado y escalado)"
   ]
  },
  {
   "cell_type": "code",
   "execution_count": 15,
   "metadata": {
    "colab": {
     "base_uri": "https://localhost:8080/",
     "height": 206
    },
    "executionInfo": {
     "elapsed": 92,
     "status": "ok",
     "timestamp": 1744156705175,
     "user": {
      "displayName": "Andrés",
      "userId": "08973124357776947394"
     },
     "user_tz": 420
    },
    "id": "e_cU8VokXoVk",
    "outputId": "ececfd1e-043c-4a89-de9b-d090959ef403",
    "slideshow": {
     "slide_type": "slide"
    },
    "tags": []
   },
   "outputs": [
    {
     "data": {
      "text/html": [
       "<div>\n",
       "<style scoped>\n",
       "    .dataframe tbody tr th:only-of-type {\n",
       "        vertical-align: middle;\n",
       "    }\n",
       "\n",
       "    .dataframe tbody tr th {\n",
       "        vertical-align: top;\n",
       "    }\n",
       "\n",
       "    .dataframe thead th {\n",
       "        text-align: right;\n",
       "    }\n",
       "</style>\n",
       "<table border=\"1\" class=\"dataframe\">\n",
       "  <thead>\n",
       "    <tr style=\"text-align: right;\">\n",
       "      <th></th>\n",
       "      <th>accesibilidad</th>\n",
       "      <th>score_a_area_residencial</th>\n",
       "      <th>score_a_servicios</th>\n",
       "      <th>score_a_area_ambiental</th>\n",
       "    </tr>\n",
       "  </thead>\n",
       "  <tbody>\n",
       "    <tr>\n",
       "      <th>0</th>\n",
       "      <td>0.786476</td>\n",
       "      <td>-0.390833</td>\n",
       "      <td>-0.537397</td>\n",
       "      <td>0.948084</td>\n",
       "    </tr>\n",
       "    <tr>\n",
       "      <th>1</th>\n",
       "      <td>1.189797</td>\n",
       "      <td>-0.382983</td>\n",
       "      <td>-0.521849</td>\n",
       "      <td>-0.782788</td>\n",
       "    </tr>\n",
       "    <tr>\n",
       "      <th>2</th>\n",
       "      <td>-0.826808</td>\n",
       "      <td>-0.356747</td>\n",
       "      <td>-0.326548</td>\n",
       "      <td>-0.337902</td>\n",
       "    </tr>\n",
       "    <tr>\n",
       "      <th>3</th>\n",
       "      <td>-1.633450</td>\n",
       "      <td>-0.364321</td>\n",
       "      <td>1.211265</td>\n",
       "      <td>-0.485840</td>\n",
       "    </tr>\n",
       "    <tr>\n",
       "      <th>4</th>\n",
       "      <td>-0.423487</td>\n",
       "      <td>-0.398381</td>\n",
       "      <td>-0.238669</td>\n",
       "      <td>-0.637949</td>\n",
       "    </tr>\n",
       "  </tbody>\n",
       "</table>\n",
       "</div>"
      ],
      "text/plain": [
       "   accesibilidad  score_a_area_residencial  score_a_servicios  \\\n",
       "0       0.786476                 -0.390833          -0.537397   \n",
       "1       1.189797                 -0.382983          -0.521849   \n",
       "2      -0.826808                 -0.356747          -0.326548   \n",
       "3      -1.633450                 -0.364321           1.211265   \n",
       "4      -0.423487                 -0.398381          -0.238669   \n",
       "\n",
       "   score_a_area_ambiental  \n",
       "0                0.948084  \n",
       "1               -0.782788  \n",
       "2               -0.337902  \n",
       "3               -0.485840  \n",
       "4               -0.637949  "
      ]
     },
     "execution_count": 15,
     "metadata": {},
     "output_type": "execute_result"
    }
   ],
   "source": [
    "# Seleccionar las variables de interes\n",
    "variables = ['accesibilidad', 'score_a_area_residencial',\\\n",
    "'score_a_servicios', 'score_a_area_ambiental']\n",
    "scaler = StandardScaler()\n",
    "df_normalized = scaler.fit_transform(datos_ordenamiento[variables])\n",
    "df_normalized = pd.DataFrame(df_normalized, columns=variables)\n",
    "df_normalized.head()"
   ]
  },
  {
   "cell_type": "markdown",
   "metadata": {
    "id": "0ZS7eGjs_KIG",
    "slideshow": {
     "slide_type": "slide"
    },
    "tags": []
   },
   "source": [
    "#### Matriz de correlación y mapa de calor"
   ]
  },
  {
   "cell_type": "code",
   "execution_count": 18,
   "metadata": {
    "colab": {
     "base_uri": "https://localhost:8080/",
     "height": 704
    },
    "executionInfo": {
     "elapsed": 1215,
     "status": "ok",
     "timestamp": 1744156707267,
     "user": {
      "displayName": "Andrés",
      "userId": "08973124357776947394"
     },
     "user_tz": 420
    },
    "id": "6Qqq6lyg_Ia2",
    "outputId": "a157c275-cbcb-4f6c-acfc-6401c75ed345",
    "slideshow": {
     "slide_type": "slide"
    },
    "tags": []
   },
   "outputs": [
    {
     "data": {
      "image/png": "[encoded data removed]",
      "text/plain": [
       "<Figure size 600x400 with 2 Axes>"
      ]
     },
     "metadata": {},
     "output_type": "display_data"
    }
   ],
   "source": [
    "import seaborn as sns\n",
    "\n",
    "correlation_matrix = df_normalized.corr()\n",
    "\n",
    "plt.figure(figsize=(6, 4))\n",
    "sns.heatmap(correlation_matrix, annot=True, cmap='coolwarm', fmt=\".2f\")\n",
    "plt.title('Correlation Matrix Heatmap')\n",
    "plt.show()"
   ]
  },
  {
   "cell_type": "markdown",
   "metadata": {
    "id": "dGv6m8e1Psee",
    "slideshow": {
     "slide_type": "slide"
    },
    "tags": []
   },
   "source": [
    "#### Aplicar PCA"
   ]
  },
  {
   "cell_type": "code",
   "execution_count": 21,
   "metadata": {
    "colab": {
     "base_uri": "https://localhost:8080/",
     "height": 711
    },
    "executionInfo": {
     "elapsed": 3,
     "status": "ok",
     "timestamp": 1744156707272,
     "user": {
      "displayName": "Andrés",
      "userId": "08973124357776947394"
     },
     "user_tz": 420
    },
    "id": "9aFEKTBzPuTv",
    "outputId": "e358b9e8-760c-4a8d-9ca2-2cb5672c3bc5",
    "slideshow": {
     "slide_type": "slide"
    },
    "tags": []
   },
   "outputs": [
    {
     "data": {
      "text/plain": [
       "0     0.082930\n",
       "1     0.938188\n",
       "2    -0.490315\n",
       "3    -0.170664\n",
       "4    -0.053282\n",
       "5    -1.593094\n",
       "6     0.845889\n",
       "7    -0.259905\n",
       "8    -1.128175\n",
       "9    -0.747522\n",
       "10    0.427888\n",
       "11   -0.247409\n",
       "12    0.345797\n",
       "13   -2.103419\n",
       "14   -0.818505\n",
       "15   -1.144596\n",
       "16    3.111178\n",
       "17    0.161886\n",
       "18    1.802216\n",
       "19    1.040915\n",
       "Name: indice_idoneidad, dtype: float64"
      ]
     },
     "execution_count": 21,
     "metadata": {},
     "output_type": "execute_result"
    }
   ],
   "source": [
    "pca = PCA(n_components=1)\n",
    "df_normalized['indice_idoneidad']  = pca.fit_transform(df_normalized)\n",
    "df_normalized['indice_idoneidad']"
   ]
  },
  {
   "cell_type": "markdown",
   "metadata": {
    "id": "hzH45raiDwWE",
    "slideshow": {
     "slide_type": "slide"
    },
    "tags": []
   },
   "source": [
    "#### Escalamos el indice entre 0 y 1 (no es parte de PCA)"
   ]
  },
  {
   "cell_type": "code",
   "execution_count": 24,
   "metadata": {
    "colab": {
     "base_uri": "https://localhost:8080/",
     "height": 711
    },
    "executionInfo": {
     "elapsed": 36,
     "status": "ok",
     "timestamp": 1744156708404,
     "user": {
      "displayName": "Andrés",
      "userId": "08973124357776947394"
     },
     "user_tz": 420
    },
    "id": "tp838OXtDeg9",
    "outputId": "604ad188-47ca-499f-9f0b-bbd430fede30",
    "slideshow": {
     "slide_type": "slide"
    },
    "tags": []
   },
   "outputs": [
    {
     "data": {
      "text/plain": [
       "0     0.419275\n",
       "1     0.583287\n",
       "2     0.309344\n",
       "3     0.370643\n",
       "4     0.393153\n",
       "5     0.097865\n",
       "6     0.565587\n",
       "7     0.353529\n",
       "8     0.187022\n",
       "9     0.260019\n",
       "10    0.485427\n",
       "11    0.355926\n",
       "12    0.469685\n",
       "13    0.000000\n",
       "14    0.246407\n",
       "15    0.183873\n",
       "16    1.000000\n",
       "17    0.434416\n",
       "18    0.748981\n",
       "19    0.602987\n",
       "Name: indice_idoneidad_escalado, dtype: float64"
      ]
     },
     "execution_count": 24,
     "metadata": {},
     "output_type": "execute_result"
    }
   ],
   "source": [
    "from sklearn.preprocessing import MinMaxScaler\n",
    "\n",
    "scaler = MinMaxScaler()\n",
    "df_normalized['indice_idoneidad_escalado'] = \\\n",
    "scaler.fit_transform(df_normalized[['indice_idoneidad']])\n",
    "\n",
    "df_normalized['indice_idoneidad_escalado']"
   ]
  },
  {
   "cell_type": "markdown",
   "metadata": {
    "id": "j_jKuNFbEDV8",
    "slideshow": {
     "slide_type": "slide"
    },
    "tags": []
   },
   "source": [
    "#### Con base en este indice podemos asignar el uso de suelo"
   ]
  },
  {
   "cell_type": "code",
   "execution_count": 27,
   "metadata": {
    "executionInfo": {
     "elapsed": 2,
     "status": "ok",
     "timestamp": 1744156709382,
     "user": {
      "displayName": "Andrés",
      "userId": "08973124357776947394"
     },
     "user_tz": 420
    },
    "id": "S5Tk8myVEHT0",
    "slideshow": {
     "slide_type": "slide"
    },
    "tags": []
   },
   "outputs": [],
   "source": [
    "# Asignar uso del suelo\n",
    "def asignar_uso(indice):\n",
    "    # Convert 'indice' to a float before comparison\n",
    "    indice = float(indice)\n",
    "    if indice >= 0.7:\n",
    "        return 'Residencial'\n",
    "    elif indice >= 0.4:\n",
    "        return 'Comercial'\n",
    "    else:\n",
    "        return 'Industrial'"
   ]
  },
  {
   "cell_type": "markdown",
   "metadata": {
    "id": "C0T5nyG0Egkj",
    "slideshow": {
     "slide_type": "slide"
    },
    "tags": []
   },
   "source": [
    "#### Añadimos el indice a los datos orignales"
   ]
  },
  {
   "cell_type": "code",
   "execution_count": 30,
   "metadata": {
    "executionInfo": {
     "elapsed": 9,
     "status": "ok",
     "timestamp": 1744156710411,
     "user": {
      "displayName": "Andrés",
      "userId": "08973124357776947394"
     },
     "user_tz": 420
    },
    "id": "wEZPjmolEJv0",
    "slideshow": {
     "slide_type": "slide"
    },
    "tags": []
   },
   "outputs": [],
   "source": [
    "datos_ordenamiento['indice'] = \\\n",
    "df_normalized['indice_idoneidad_escalado']"
   ]
  },
  {
   "cell_type": "markdown",
   "metadata": {
    "id": "nAndt-rpE0Bi",
    "slideshow": {
     "slide_type": "slide"
    },
    "tags": []
   },
   "source": [
    "#### Aplicamos el criterio de uso de suelo"
   ]
  },
  {
   "cell_type": "code",
   "execution_count": 33,
   "metadata": {
    "executionInfo": {
     "elapsed": 39,
     "status": "ok",
     "timestamp": 1744156711435,
     "user": {
      "displayName": "Andrés",
      "userId": "08973124357776947394"
     },
     "user_tz": 420
    },
    "id": "ZUGDfd-bE2XY",
    "slideshow": {
     "slide_type": "slide"
    },
    "tags": []
   },
   "outputs": [],
   "source": [
    "datos_ordenamiento['uso_suelo'] = \\\n",
    "datos_ordenamiento['indice'].apply(asignar_uso)"
   ]
  },
  {
   "cell_type": "markdown",
   "metadata": {
    "id": "FO2DFLjoFqwq",
    "slideshow": {
     "slide_type": "slide"
    },
    "tags": []
   },
   "source": [
    "#### Desplegamos la categorización"
   ]
  },
  {
   "cell_type": "code",
   "execution_count": 36,
   "metadata": {
    "colab": {
     "base_uri": "https://localhost:8080/",
     "height": 676
    },
    "executionInfo": {
     "elapsed": 40,
     "status": "ok",
     "timestamp": 1744156712432,
     "user": {
      "displayName": "Andrés",
      "userId": "08973124357776947394"
     },
     "user_tz": 420
    },
    "id": "M7OEd4GaFuea",
    "outputId": "d3e66a12-d50c-472d-c6f6-2441a62836a0",
    "slideshow": {
     "slide_type": "slide"
    },
    "tags": []
   },
   "outputs": [
    {
     "data": {
      "text/html": [
       "<div>\n",
       "<style scoped>\n",
       "    .dataframe tbody tr th:only-of-type {\n",
       "        vertical-align: middle;\n",
       "    }\n",
       "\n",
       "    .dataframe tbody tr th {\n",
       "        vertical-align: top;\n",
       "    }\n",
       "\n",
       "    .dataframe thead th {\n",
       "        text-align: right;\n",
       "    }\n",
       "</style>\n",
       "<table border=\"1\" class=\"dataframe\">\n",
       "  <thead>\n",
       "    <tr style=\"text-align: right;\">\n",
       "      <th></th>\n",
       "      <th>id</th>\n",
       "      <th>latitud</th>\n",
       "      <th>longitud</th>\n",
       "      <th>indice</th>\n",
       "      <th>uso_suelo</th>\n",
       "    </tr>\n",
       "  </thead>\n",
       "  <tbody>\n",
       "    <tr>\n",
       "      <th>0</th>\n",
       "      <td>1</td>\n",
       "      <td>19.427491</td>\n",
       "      <td>-99.133881</td>\n",
       "      <td>0.419275</td>\n",
       "      <td>Comercial</td>\n",
       "    </tr>\n",
       "    <tr>\n",
       "      <th>1</th>\n",
       "      <td>2</td>\n",
       "      <td>19.439014</td>\n",
       "      <td>-99.138605</td>\n",
       "      <td>0.583287</td>\n",
       "      <td>Comercial</td>\n",
       "    </tr>\n",
       "    <tr>\n",
       "      <th>2</th>\n",
       "      <td>3</td>\n",
       "      <td>19.434640</td>\n",
       "      <td>-99.137079</td>\n",
       "      <td>0.309344</td>\n",
       "      <td>Industrial</td>\n",
       "    </tr>\n",
       "    <tr>\n",
       "      <th>3</th>\n",
       "      <td>4</td>\n",
       "      <td>19.431973</td>\n",
       "      <td>-99.136336</td>\n",
       "      <td>0.370643</td>\n",
       "      <td>Industrial</td>\n",
       "    </tr>\n",
       "    <tr>\n",
       "      <th>4</th>\n",
       "      <td>5</td>\n",
       "      <td>19.423120</td>\n",
       "      <td>-99.135439</td>\n",
       "      <td>0.393153</td>\n",
       "      <td>Industrial</td>\n",
       "    </tr>\n",
       "    <tr>\n",
       "      <th>5</th>\n",
       "      <td>6</td>\n",
       "      <td>19.423120</td>\n",
       "      <td>-99.132148</td>\n",
       "      <td>0.097865</td>\n",
       "      <td>Industrial</td>\n",
       "    </tr>\n",
       "    <tr>\n",
       "      <th>6</th>\n",
       "      <td>7</td>\n",
       "      <td>19.421162</td>\n",
       "      <td>-99.138003</td>\n",
       "      <td>0.565587</td>\n",
       "      <td>Comercial</td>\n",
       "    </tr>\n",
       "    <tr>\n",
       "      <th>7</th>\n",
       "      <td>8</td>\n",
       "      <td>19.437324</td>\n",
       "      <td>-99.134858</td>\n",
       "      <td>0.353529</td>\n",
       "      <td>Industrial</td>\n",
       "    </tr>\n",
       "    <tr>\n",
       "      <th>8</th>\n",
       "      <td>9</td>\n",
       "      <td>19.432022</td>\n",
       "      <td>-99.134076</td>\n",
       "      <td>0.187022</td>\n",
       "      <td>Industrial</td>\n",
       "    </tr>\n",
       "    <tr>\n",
       "      <th>9</th>\n",
       "      <td>10</td>\n",
       "      <td>19.434161</td>\n",
       "      <td>-99.139535</td>\n",
       "      <td>0.260019</td>\n",
       "      <td>Industrial</td>\n",
       "    </tr>\n",
       "    <tr>\n",
       "      <th>10</th>\n",
       "      <td>11</td>\n",
       "      <td>19.420412</td>\n",
       "      <td>-99.133925</td>\n",
       "      <td>0.485427</td>\n",
       "      <td>Comercial</td>\n",
       "    </tr>\n",
       "    <tr>\n",
       "      <th>11</th>\n",
       "      <td>12</td>\n",
       "      <td>19.439398</td>\n",
       "      <td>-99.138295</td>\n",
       "      <td>0.355926</td>\n",
       "      <td>Industrial</td>\n",
       "    </tr>\n",
       "    <tr>\n",
       "      <th>12</th>\n",
       "      <td>13</td>\n",
       "      <td>19.436649</td>\n",
       "      <td>-99.139349</td>\n",
       "      <td>0.469685</td>\n",
       "      <td>Comercial</td>\n",
       "    </tr>\n",
       "    <tr>\n",
       "      <th>13</th>\n",
       "      <td>14</td>\n",
       "      <td>19.424247</td>\n",
       "      <td>-99.130511</td>\n",
       "      <td>0.000000</td>\n",
       "      <td>Industrial</td>\n",
       "    </tr>\n",
       "    <tr>\n",
       "      <th>14</th>\n",
       "      <td>15</td>\n",
       "      <td>19.423636</td>\n",
       "      <td>-99.130344</td>\n",
       "      <td>0.246407</td>\n",
       "      <td>Industrial</td>\n",
       "    </tr>\n",
       "    <tr>\n",
       "      <th>15</th>\n",
       "      <td>16</td>\n",
       "      <td>19.423668</td>\n",
       "      <td>-99.131916</td>\n",
       "      <td>0.183873</td>\n",
       "      <td>Industrial</td>\n",
       "    </tr>\n",
       "    <tr>\n",
       "      <th>16</th>\n",
       "      <td>17</td>\n",
       "      <td>19.426085</td>\n",
       "      <td>-99.136954</td>\n",
       "      <td>1.000000</td>\n",
       "      <td>Residencial</td>\n",
       "    </tr>\n",
       "    <tr>\n",
       "      <th>17</th>\n",
       "      <td>18</td>\n",
       "      <td>19.430495</td>\n",
       "      <td>-99.139023</td>\n",
       "      <td>0.434416</td>\n",
       "      <td>Comercial</td>\n",
       "    </tr>\n",
       "    <tr>\n",
       "      <th>18</th>\n",
       "      <td>19</td>\n",
       "      <td>19.428639</td>\n",
       "      <td>-99.133158</td>\n",
       "      <td>0.748981</td>\n",
       "      <td>Residencial</td>\n",
       "    </tr>\n",
       "    <tr>\n",
       "      <th>19</th>\n",
       "      <td>20</td>\n",
       "      <td>19.425825</td>\n",
       "      <td>-99.135598</td>\n",
       "      <td>0.602987</td>\n",
       "      <td>Comercial</td>\n",
       "    </tr>\n",
       "  </tbody>\n",
       "</table>\n",
       "</div>"
      ],
      "text/plain": [
       "    id    latitud   longitud    indice    uso_suelo\n",
       "0    1  19.427491 -99.133881  0.419275    Comercial\n",
       "1    2  19.439014 -99.138605  0.583287    Comercial\n",
       "2    3  19.434640 -99.137079  0.309344   Industrial\n",
       "3    4  19.431973 -99.136336  0.370643   Industrial\n",
       "4    5  19.423120 -99.135439  0.393153   Industrial\n",
       "5    6  19.423120 -99.132148  0.097865   Industrial\n",
       "6    7  19.421162 -99.138003  0.565587    Comercial\n",
       "7    8  19.437324 -99.134858  0.353529   Industrial\n",
       "8    9  19.432022 -99.134076  0.187022   Industrial\n",
       "9   10  19.434161 -99.139535  0.260019   Industrial\n",
       "10  11  19.420412 -99.133925  0.485427    Comercial\n",
       "11  12  19.439398 -99.138295  0.355926   Industrial\n",
       "12  13  19.436649 -99.139349  0.469685    Comercial\n",
       "13  14  19.424247 -99.130511  0.000000   Industrial\n",
       "14  15  19.423636 -99.130344  0.246407   Industrial\n",
       "15  16  19.423668 -99.131916  0.183873   Industrial\n",
       "16  17  19.426085 -99.136954  1.000000  Residencial\n",
       "17  18  19.430495 -99.139023  0.434416    Comercial\n",
       "18  19  19.428639 -99.133158  0.748981  Residencial\n",
       "19  20  19.425825 -99.135598  0.602987    Comercial"
      ]
     },
     "execution_count": 36,
     "metadata": {},
     "output_type": "execute_result"
    }
   ],
   "source": [
    "datos_ordenamiento[['id','latitud','longitud','indice','uso_suelo']]"
   ]
  },
  {
   "cell_type": "markdown",
   "metadata": {
    "id": "d2bTpmTQF0zp",
    "slideshow": {
     "slide_type": "slide"
    },
    "tags": []
   },
   "source": [
    "#### Siempre es útil una visualización"
   ]
  },
  {
   "cell_type": "code",
   "execution_count": 39,
   "metadata": {
    "colab": {
     "base_uri": "https://localhost:8080/",
     "height": 564
    },
    "executionInfo": {
     "elapsed": 499,
     "status": "ok",
     "timestamp": 1744156714117,
     "user": {
      "displayName": "Andrés",
      "userId": "08973124357776947394"
     },
     "user_tz": 420
    },
    "id": "M_YzOWzDOyPI",
    "outputId": "9e72bb69-450c-4ef8-efac-1c6b02221cd8",
    "slideshow": {
     "slide_type": "slide"
    },
    "tags": []
   },
   "outputs": [
    {
     "data": {
      "image/png": "[encoded data removed]",
      "text/plain": [
       "<Figure size 600x400 with 2 Axes>"
      ]
     },
     "metadata": {},
     "output_type": "display_data"
    }
   ],
   "source": [
    "# Visualización\n",
    "plt.figure(figsize=(6, 4))\n",
    "plt.scatter(datos_ordenamiento['longitud'],\n",
    "            datos_ordenamiento['latitud'], \n",
    "            c=datos_ordenamiento['indice'], \n",
    "            cmap='viridis', s=100)\n",
    "plt.colorbar(label='Índice de Idoneidad')\n",
    "plt.title('Distribución de Parcelas con Índice de Idoneidad')\n",
    "plt.xlabel('Longitud')\n",
    "plt.ylabel('Latitud')\n",
    "plt.savefig('scatter_plot_pca.png')\n",
    "plt.show()"
   ]
  },
  {
   "cell_type": "markdown",
   "metadata": {
    "id": "ENt64SaXGfnh",
    "slideshow": {
     "slide_type": "slide"
    },
    "tags": []
   },
   "source": [
    "#### **Apendice: Construcción del índice**"
   ]
  },
  {
   "cell_type": "markdown",
   "metadata": {
    "id": "L0y8LCk0G21O",
    "slideshow": {
     "slide_type": "slide"
    },
    "tags": []
   },
   "source": [
    "#### Desplegamos los pesos que se obtienen con PCA para la combinación lineal (óptima) de las variables"
   ]
  },
  {
   "cell_type": "code",
   "execution_count": 43,
   "metadata": {
    "colab": {
     "base_uri": "https://localhost:8080/",
     "height": 175
    },
    "executionInfo": {
     "elapsed": 5,
     "status": "ok",
     "timestamp": 1744156715898,
     "user": {
      "displayName": "Andrés",
      "userId": "08973124357776947394"
     },
     "user_tz": 420
    },
    "id": "C9f3mq4pTDMd",
    "outputId": "047a6728-5b1e-4ba1-af6c-81e7cf0b61db",
    "slideshow": {
     "slide_type": "slide"
    },
    "tags": []
   },
   "outputs": [
    {
     "data": {
      "text/html": [
       "<div>\n",
       "<style scoped>\n",
       "    .dataframe tbody tr th:only-of-type {\n",
       "        vertical-align: middle;\n",
       "    }\n",
       "\n",
       "    .dataframe tbody tr th {\n",
       "        vertical-align: top;\n",
       "    }\n",
       "\n",
       "    .dataframe thead th {\n",
       "        text-align: right;\n",
       "    }\n",
       "</style>\n",
       "<table border=\"1\" class=\"dataframe\">\n",
       "  <thead>\n",
       "    <tr style=\"text-align: right;\">\n",
       "      <th></th>\n",
       "      <th>Feature</th>\n",
       "      <th>Weight</th>\n",
       "    </tr>\n",
       "  </thead>\n",
       "  <tbody>\n",
       "    <tr>\n",
       "      <th>0</th>\n",
       "      <td>accesibilidad</td>\n",
       "      <td>0.681653</td>\n",
       "    </tr>\n",
       "    <tr>\n",
       "      <th>1</th>\n",
       "      <td>score_a_area_residencial</td>\n",
       "      <td>-0.377340</td>\n",
       "    </tr>\n",
       "    <tr>\n",
       "      <th>2</th>\n",
       "      <td>score_a_servicios</td>\n",
       "      <td>0.531596</td>\n",
       "    </tr>\n",
       "    <tr>\n",
       "      <th>3</th>\n",
       "      <td>score_a_area_ambiental</td>\n",
       "      <td>-0.332220</td>\n",
       "    </tr>\n",
       "  </tbody>\n",
       "</table>\n",
       "</div>"
      ],
      "text/plain": [
       "                    Feature    Weight\n",
       "0             accesibilidad  0.681653\n",
       "1  score_a_area_residencial -0.377340\n",
       "2         score_a_servicios  0.531596\n",
       "3    score_a_area_ambiental -0.332220"
      ]
     },
     "execution_count": 43,
     "metadata": {},
     "output_type": "execute_result"
    }
   ],
   "source": [
    "loadings = pca.components_.flatten()\n",
    "\n",
    "\n",
    "weights_df = pd.DataFrame({'Feature': variables, 'Weight': loadings})\n",
    "\n",
    "weights_df"
   ]
  },
  {
   "cell_type": "markdown",
   "metadata": {
    "id": "dMkj2LdV2Djn",
    "slideshow": {
     "slide_type": "slide"
    },
    "tags": []
   },
   "source": [
    "#### Graficamos la importancia de cada peso"
   ]
  },
  {
   "cell_type": "code",
   "execution_count": 46,
   "metadata": {
    "colab": {
     "base_uri": "https://localhost:8080/",
     "height": 607
    },
    "executionInfo": {
     "elapsed": 251,
     "status": "ok",
     "timestamp": 1744156867628,
     "user": {
      "displayName": "Andrés",
      "userId": "08973124357776947394"
     },
     "user_tz": 420
    },
    "id": "H-lIWWea2Ij-",
    "outputId": "4d53eb41-28cc-4eee-9996-be3b91a9b61e",
    "slideshow": {
     "slide_type": "slide"
    },
    "tags": []
   },
   "outputs": [
    {
     "data": {
      "image/png": "[encoded data removed]",
      "text/plain": [
       "<Figure size 800x400 with 1 Axes>"
      ]
     },
     "metadata": {},
     "output_type": "display_data"
    }
   ],
   "source": [
    "loadings = pca.components_.flatten()\n",
    "variables = ['accesibilidad', 'score_a_area_residencial', \\\n",
    "             'score_a_servicios', 'score_a_area_ambiental']\n",
    "\n",
    "weights_df = pd.DataFrame({'Feature': variables, 'Weight': loadings})\n",
    "\n",
    "plt.figure(figsize=(8, 4))\n",
    "plt.bar(weights_df['Feature'], weights_df['Weight'])\n",
    "plt.xlabel('Feature')\n",
    "plt.ylabel('Weight')\n",
    "plt.title('Weights of Features in PCA')\n",
    "plt.xticks(rotation=45, ha='right')\n",
    "plt.tight_layout()\n",
    "plt.show()"
   ]
  },
  {
   "cell_type": "markdown",
   "metadata": {
    "id": "0U9NG1keHPoe",
    "slideshow": {
     "slide_type": "slide"
    },
    "tags": []
   },
   "source": [
    "#### Corroboramos que el índice coincida con lo calculado"
   ]
  },
  {
   "cell_type": "code",
   "execution_count": 49,
   "metadata": {
    "colab": {
     "base_uri": "https://localhost:8080/",
     "height": 676
    },
    "executionInfo": {
     "elapsed": 10,
     "status": "ok",
     "timestamp": 1744156871872,
     "user": {
      "displayName": "Andrés",
      "userId": "08973124357776947394"
     },
     "user_tz": 420
    },
    "id": "NsuWUyFxHIZW",
    "outputId": "aea48f18-bd8c-4c76-aaa8-8a3f2291c357",
    "slideshow": {
     "slide_type": "slide"
    },
    "tags": []
   },
   "outputs": [
    {
     "data": {
      "text/html": [
       "<div>\n",
       "<style scoped>\n",
       "    .dataframe tbody tr th:only-of-type {\n",
       "        vertical-align: middle;\n",
       "    }\n",
       "\n",
       "    .dataframe tbody tr th {\n",
       "        vertical-align: top;\n",
       "    }\n",
       "\n",
       "    .dataframe thead th {\n",
       "        text-align: right;\n",
       "    }\n",
       "</style>\n",
       "<table border=\"1\" class=\"dataframe\">\n",
       "  <thead>\n",
       "    <tr style=\"text-align: right;\">\n",
       "      <th></th>\n",
       "      <th>PCA_Index</th>\n",
       "      <th>Manual_Index</th>\n",
       "    </tr>\n",
       "  </thead>\n",
       "  <tbody>\n",
       "    <tr>\n",
       "      <th>0</th>\n",
       "      <td>0.082930</td>\n",
       "      <td>0.082930</td>\n",
       "    </tr>\n",
       "    <tr>\n",
       "      <th>1</th>\n",
       "      <td>0.938188</td>\n",
       "      <td>0.938188</td>\n",
       "    </tr>\n",
       "    <tr>\n",
       "      <th>2</th>\n",
       "      <td>-0.490315</td>\n",
       "      <td>-0.490315</td>\n",
       "    </tr>\n",
       "    <tr>\n",
       "      <th>3</th>\n",
       "      <td>-0.170664</td>\n",
       "      <td>-0.170664</td>\n",
       "    </tr>\n",
       "    <tr>\n",
       "      <th>4</th>\n",
       "      <td>-0.053282</td>\n",
       "      <td>-0.053282</td>\n",
       "    </tr>\n",
       "    <tr>\n",
       "      <th>5</th>\n",
       "      <td>-1.593094</td>\n",
       "      <td>-1.593094</td>\n",
       "    </tr>\n",
       "    <tr>\n",
       "      <th>6</th>\n",
       "      <td>0.845889</td>\n",
       "      <td>0.845889</td>\n",
       "    </tr>\n",
       "    <tr>\n",
       "      <th>7</th>\n",
       "      <td>-0.259905</td>\n",
       "      <td>-0.259905</td>\n",
       "    </tr>\n",
       "    <tr>\n",
       "      <th>8</th>\n",
       "      <td>-1.128175</td>\n",
       "      <td>-1.128175</td>\n",
       "    </tr>\n",
       "    <tr>\n",
       "      <th>9</th>\n",
       "      <td>-0.747522</td>\n",
       "      <td>-0.747522</td>\n",
       "    </tr>\n",
       "    <tr>\n",
       "      <th>10</th>\n",
       "      <td>0.427888</td>\n",
       "      <td>0.427888</td>\n",
       "    </tr>\n",
       "    <tr>\n",
       "      <th>11</th>\n",
       "      <td>-0.247409</td>\n",
       "      <td>-0.247409</td>\n",
       "    </tr>\n",
       "    <tr>\n",
       "      <th>12</th>\n",
       "      <td>0.345797</td>\n",
       "      <td>0.345797</td>\n",
       "    </tr>\n",
       "    <tr>\n",
       "      <th>13</th>\n",
       "      <td>-2.103419</td>\n",
       "      <td>-2.103419</td>\n",
       "    </tr>\n",
       "    <tr>\n",
       "      <th>14</th>\n",
       "      <td>-0.818505</td>\n",
       "      <td>-0.818505</td>\n",
       "    </tr>\n",
       "    <tr>\n",
       "      <th>15</th>\n",
       "      <td>-1.144596</td>\n",
       "      <td>-1.144596</td>\n",
       "    </tr>\n",
       "    <tr>\n",
       "      <th>16</th>\n",
       "      <td>3.111178</td>\n",
       "      <td>3.111178</td>\n",
       "    </tr>\n",
       "    <tr>\n",
       "      <th>17</th>\n",
       "      <td>0.161886</td>\n",
       "      <td>0.161886</td>\n",
       "    </tr>\n",
       "    <tr>\n",
       "      <th>18</th>\n",
       "      <td>1.802216</td>\n",
       "      <td>1.802216</td>\n",
       "    </tr>\n",
       "    <tr>\n",
       "      <th>19</th>\n",
       "      <td>1.040915</td>\n",
       "      <td>1.040915</td>\n",
       "    </tr>\n",
       "  </tbody>\n",
       "</table>\n",
       "</div>"
      ],
      "text/plain": [
       "    PCA_Index  Manual_Index\n",
       "0    0.082930      0.082930\n",
       "1    0.938188      0.938188\n",
       "2   -0.490315     -0.490315\n",
       "3   -0.170664     -0.170664\n",
       "4   -0.053282     -0.053282\n",
       "5   -1.593094     -1.593094\n",
       "6    0.845889      0.845889\n",
       "7   -0.259905     -0.259905\n",
       "8   -1.128175     -1.128175\n",
       "9   -0.747522     -0.747522\n",
       "10   0.427888      0.427888\n",
       "11  -0.247409     -0.247409\n",
       "12   0.345797      0.345797\n",
       "13  -2.103419     -2.103419\n",
       "14  -0.818505     -0.818505\n",
       "15  -1.144596     -1.144596\n",
       "16   3.111178      3.111178\n",
       "17   0.161886      0.161886\n",
       "18   1.802216      1.802216\n",
       "19   1.040915      1.040915"
      ]
     },
     "execution_count": 49,
     "metadata": {},
     "output_type": "execute_result"
    }
   ],
   "source": [
    "indice_manual = np.dot(df_normalized[variables], weights_df['Weight'])\n",
    "indice_manual_df = pd.DataFrame({'indice_manual': indice_manual})\n",
    "\n",
    "\n",
    "comparison_df = pd.DataFrame(\n",
    "    {'PCA_Index': df_normalized['indice_idoneidad'],\n",
    "    'Manual_Index': indice_manual_df['indice_manual']})\n",
    "\n",
    "\n",
    "comparison_df"
   ]
  },
  {
   "cell_type": "markdown",
   "metadata": {
    "id": "HXqtC30U3ryp",
    "slideshow": {
     "slide_type": "slide"
    },
    "tags": []
   },
   "source": [
    "#### Pudiera ser ilustrativo visualizar el valor de indice para cada parcela"
   ]
  },
  {
   "cell_type": "code",
   "execution_count": 52,
   "metadata": {
    "colab": {
     "base_uri": "https://localhost:8080/",
     "height": 564
    },
    "executionInfo": {
     "elapsed": 350,
     "status": "ok",
     "timestamp": 1744157490456,
     "user": {
      "displayName": "Andrés",
      "userId": "08973124357776947394"
     },
     "user_tz": 420
    },
    "id": "5kzjhCjR3pnX",
    "outputId": "b6393feb-fc99-4d1e-b991-0cf96a1f4e03",
    "slideshow": {
     "slide_type": "slide"
    },
    "tags": []
   },
   "outputs": [
    {
     "data": {
      "image/png": "[encoded data removed]",
      "text/plain": [
       "<Figure size 600x400 with 1 Axes>"
      ]
     },
     "metadata": {},
     "output_type": "display_data"
    }
   ],
   "source": [
    "plt.figure(figsize=(6, 4))\n",
    "plt.plot(datos_ordenamiento['indice'], marker='o', linestyle='-')\n",
    "plt.xlabel('Parcela')\n",
    "plt.ylabel('Índice de Idoneidad')\n",
    "plt.title('Índice de Idoneidad')\n",
    "plt.grid(True)\n",
    "plt.savefig('indice_idoneidad.png')\n",
    "plt.show()"
   ]
  },
  {
   "cell_type": "markdown",
   "metadata": {
    "id": "iSVw13mH40ox",
    "slideshow": {
     "slide_type": "slide"
    },
    "tags": []
   },
   "source": [
    "#### Clasificamos los puntos y los dibujamos con diferente color de acuerdo al uso de suelo"
   ]
  },
  {
   "cell_type": "code",
   "execution_count": 55,
   "metadata": {
    "colab": {
     "base_uri": "https://localhost:8080/",
     "height": 567
    },
    "executionInfo": {
     "elapsed": 478,
     "status": "ok",
     "timestamp": 1744157491648,
     "user": {
      "displayName": "Andrés",
      "userId": "08973124357776947394"
     },
     "user_tz": 420
    },
    "id": "wBqivmt533oQ",
    "outputId": "97cc6506-796f-4ae9-e2ef-1bd00a82e4bf",
    "slideshow": {
     "slide_type": "slide"
    },
    "tags": []
   },
   "outputs": [
    {
     "data": {
      "text/plain": [
       "<matplotlib.legend.Legend at 0x7df2fb7926c0>"
      ]
     },
     "execution_count": 55,
     "metadata": {},
     "output_type": "execute_result"
    },
    {
     "data": {
      "image/png": "[encoded data removed]",
      "text/plain": [
       "<Figure size 600x400 with 1 Axes>"
      ]
     },
     "metadata": {},
     "output_type": "display_data"
    }
   ],
   "source": [
    "import matplotlib.pyplot as plt\n",
    "\n",
    "plt.figure(figsize=(6, 4)) \n",
    "\n",
    "# Crear el gráfico con una línea negra conectando los puntos\n",
    "plt.plot(datos_ordenamiento.index, datos_ordenamiento['indice'], \\\n",
    "         color='black', linewidth=1, zorder=1)\n",
    "# zorder asegura que la línea esté por detrás de los puntos\n",
    "\n",
    "# Gráfico de dispersión con colores basados en 'uso_suelo'\n",
    "colores = {'Residencial': 'red', 'Comercial': 'blue', \\\n",
    "           'Industrial': 'green'}\n",
    "for uso, color in colores.items():\n",
    "    # Filtrar los datos para el tipo de uso de suelo específico\n",
    "    subconjunto = \\\n",
    "    datos_ordenamiento[datos_ordenamiento['uso_suelo'] == uso]\n",
    "    # Crear el gráfico de dispersión para cada subconjunto\n",
    "    plt.scatter(subconjunto.index, subconjunto['indice'], \\\n",
    "                color=color, label=uso, s=50, zorder=2)\n",
    "\n",
    "plt.xlabel('Parcela (índice)')\n",
    "plt.ylabel('Índice de Idoneidad')\n",
    "plt.title('Índice de Idoneidad por Parcela')\n",
    "plt.grid(True)\n",
    "plt.legend()"
   ]
  }
 ],
 "metadata": {
  "colab": {
   "authorship_tag": "ABX9TyMouUKe9JWVYQ/b+yCxcElP",
   "provenance": []
  },
  "kernelspec": {
   "display_name": "Python [conda env:base] *",
   "language": "python",
   "name": "conda-base-py"
  },
  "language_info": {
   "codemirror_mode": {
    "name": "ipython",
    "version": 3
   },
   "file_extension": ".py",
   "mimetype": "text/x-python",
   "name": "python",
   "nbconvert_exporter": "python",
   "pygments_lexer": "ipython3",
   "version": "3.12.2"
  }
 },
 "nbformat": 4,
 "nbformat_minor": 4
}
